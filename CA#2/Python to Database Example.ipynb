{
 "cells": [
  {
   "cell_type": "code",
   "execution_count": 1,
   "id": "dd0ece96",
   "metadata": {},
   "outputs": [],
   "source": [
    "config = {\n",
    "    'host': '127.0.0.1',\n",
    "    'database': 'commentsDB',\n",
    "    'user': 'student',\n",
    "    'password': 'itcarlow',\n",
    "}"
   ]
  },
  {
   "cell_type": "code",
   "execution_count": 2,
   "id": "553071ad",
   "metadata": {},
   "outputs": [],
   "source": [
    "import DBcm"
   ]
  },
  {
   "cell_type": "code",
   "execution_count": 3,
   "id": "52304a74",
   "metadata": {},
   "outputs": [],
   "source": [
    "with DBcm.UseDatabase(config) as db:\n",
    "    SQL = \"select * from comments order by time DESC\"\n",
    "    db.execute(SQL)\n",
    "    results =db.fetchall()"
   ]
  },
  {
   "cell_type": "code",
   "execution_count": 4,
   "id": "36633bf4",
   "metadata": {},
   "outputs": [
    {
     "data": {
      "text/plain": [
       "[(5,\n",
       "  'Callum',\n",
       "  'Murphy',\n",
       "  'Call.Mur@hotmail.com',\n",
       "  'brb',\n",
       "  datetime.datetime(2021, 12, 16, 20, 48, 38)),\n",
       " (6,\n",
       "  'Paddy',\n",
       "  'Green',\n",
       "  'patgreen@hotmail.com',\n",
       "  'Whats up doc?',\n",
       "  datetime.datetime(2021, 12, 16, 20, 48, 38)),\n",
       " (4,\n",
       "  'Kate',\n",
       "  'Mary',\n",
       "  'Katie@gmail.com',\n",
       "  'IDK',\n",
       "  datetime.datetime(2021, 12, 16, 20, 37, 54)),\n",
       " (3,\n",
       "  'Mary',\n",
       "  'Jones',\n",
       "  'M.J@gmail.com',\n",
       "  'What is this',\n",
       "  datetime.datetime(2021, 12, 16, 20, 32, 26)),\n",
       " (2,\n",
       "  'Paul',\n",
       "  'Griffin',\n",
       "  'P.Griggin@gmail.com',\n",
       "  'Test',\n",
       "  datetime.datetime(2021, 12, 16, 19, 31, 42)),\n",
       " (1,\n",
       "  'Fred',\n",
       "  'Lasso',\n",
       "  'fred@gmail.com',\n",
       "  'Hello World!',\n",
       "  datetime.datetime(2021, 12, 16, 16, 51, 31))]"
      ]
     },
     "execution_count": 4,
     "metadata": {},
     "output_type": "execute_result"
    }
   ],
   "source": [
    "results"
   ]
  },
  {
   "cell_type": "code",
   "execution_count": 16,
   "id": "3b973b14",
   "metadata": {},
   "outputs": [],
   "source": [
    "SQL = \"insert into comments (first, last, email, message) values ('Kate', 'Mary', 'Katie@gmail.com', 'IDK')\""
   ]
  },
  {
   "cell_type": "code",
   "execution_count": 17,
   "id": "93b81c9f",
   "metadata": {},
   "outputs": [],
   "source": [
    "with DBcm.UseDatabase(config) as db:\n",
    "    db.execute(SQL)"
   ]
  },
  {
   "cell_type": "code",
   "execution_count": 18,
   "id": "98ee55d6",
   "metadata": {},
   "outputs": [
    {
     "data": {
      "text/plain": [
       "list"
      ]
     },
     "execution_count": 18,
     "metadata": {},
     "output_type": "execute_result"
    }
   ],
   "source": [
    "type(results)"
   ]
  },
  {
   "cell_type": "code",
   "execution_count": 19,
   "id": "d26db510",
   "metadata": {},
   "outputs": [
    {
     "data": {
      "text/plain": [
       "[(3,\n",
       "  'Mary',\n",
       "  'Jones',\n",
       "  'M.J@gmail.com',\n",
       "  'What is this',\n",
       "  datetime.datetime(2021, 12, 16, 20, 32, 26)),\n",
       " (2,\n",
       "  'Paul',\n",
       "  'Griffin',\n",
       "  'P.Griggin@gmail.com',\n",
       "  'Test',\n",
       "  datetime.datetime(2021, 12, 16, 19, 31, 42)),\n",
       " (1,\n",
       "  'Fred',\n",
       "  'Lasso',\n",
       "  'fred@gmail.com',\n",
       "  'Hello World!',\n",
       "  datetime.datetime(2021, 12, 16, 16, 51, 31))]"
      ]
     },
     "execution_count": 19,
     "metadata": {},
     "output_type": "execute_result"
    }
   ],
   "source": [
    "results"
   ]
  },
  {
   "cell_type": "code",
   "execution_count": 23,
   "id": "b8549ce2",
   "metadata": {},
   "outputs": [
    {
     "name": "stdout",
     "output_type": "stream",
     "text": [
      "(3, 'Mary', 'Jones', 'M.J@gmail.com', 'What is this', datetime.datetime(2021, 12, 16, 20, 32, 26))\n",
      "(2, 'Paul', 'Griffin', 'P.Griggin@gmail.com', 'Test', datetime.datetime(2021, 12, 16, 19, 31, 42))\n",
      "(1, 'Fred', 'Lasso', 'fred@gmail.com', 'Hello World!', datetime.datetime(2021, 12, 16, 16, 51, 31))\n"
     ]
    }
   ],
   "source": [
    "for row in results:\n",
    "    print (row)"
   ]
  },
  {
   "cell_type": "code",
   "execution_count": 25,
   "id": "f0a34a8b",
   "metadata": {},
   "outputs": [
    {
     "data": {
      "text/plain": [
       "[('Callum', 'Murphy', 'Call.Mur@hotmail.com', 'brb'),\n",
       " ('Paddy', 'Green', 'patgreen@hotmail.com', 'Whats up doc?')]"
      ]
     },
     "execution_count": 25,
     "metadata": {},
     "output_type": "execute_result"
    }
   ],
   "source": [
    "data =  [\n",
    "    ('Callum', 'Murphy', 'Call.Mur@hotmail.com', 'brb'),\n",
    "    ('Paddy', 'Green', 'patgreen@hotmail.com', 'Whats up doc?')\n",
    "]\n",
    "data"
   ]
  },
  {
   "cell_type": "code",
   "execution_count": 29,
   "id": "f11f60bb",
   "metadata": {},
   "outputs": [],
   "source": [
    "SQL = \"insert into comments (first, last, email, message) values ( %s , %s, %s, %s)\""
   ]
  },
  {
   "cell_type": "code",
   "execution_count": 30,
   "id": "2d81e18b",
   "metadata": {},
   "outputs": [],
   "source": [
    "with DBcm.UseDatabase(config) as db:\n",
    "    db.executemany(SQL, data)"
   ]
  },
  {
   "cell_type": "code",
   "execution_count": 31,
   "id": "a2d7e8fe",
   "metadata": {},
   "outputs": [
    {
     "data": {
      "text/plain": [
       "[(1,\n",
       "  'Fred',\n",
       "  'Lasso',\n",
       "  'fred@gmail.com',\n",
       "  'Hello World!',\n",
       "  datetime.datetime(2021, 12, 16, 16, 51, 31)),\n",
       " (2,\n",
       "  'Paul',\n",
       "  'Griffin',\n",
       "  'P.Griggin@gmail.com',\n",
       "  'Test',\n",
       "  datetime.datetime(2021, 12, 16, 19, 31, 42)),\n",
       " (3,\n",
       "  'Mary',\n",
       "  'Jones',\n",
       "  'M.J@gmail.com',\n",
       "  'What is this',\n",
       "  datetime.datetime(2021, 12, 16, 20, 32, 26)),\n",
       " (4,\n",
       "  'Kate',\n",
       "  'Mary',\n",
       "  'Katie@gmail.com',\n",
       "  'IDK',\n",
       "  datetime.datetime(2021, 12, 16, 20, 37, 54)),\n",
       " (5,\n",
       "  'Callum',\n",
       "  'Murphy',\n",
       "  'Call.Mur@hotmail.com',\n",
       "  'brb',\n",
       "  datetime.datetime(2021, 12, 16, 20, 48, 38)),\n",
       " (6,\n",
       "  'Paddy',\n",
       "  'Green',\n",
       "  'patgreen@hotmail.com',\n",
       "  'Whats up doc?',\n",
       "  datetime.datetime(2021, 12, 16, 20, 48, 38))]"
      ]
     },
     "execution_count": 31,
     "metadata": {},
     "output_type": "execute_result"
    }
   ],
   "source": [
    "with DBcm.UseDatabase(config) as db:\n",
    "    SQL = \"select * from comments\"\n",
    "    db.execute(SQL)\n",
    "    results = db.fetchall()\n",
    "    \n",
    "results"
   ]
  },
  {
   "cell_type": "code",
   "execution_count": null,
   "id": "a9d2d34d",
   "metadata": {},
   "outputs": [],
   "source": []
  }
 ],
 "metadata": {
  "kernelspec": {
   "display_name": "Python 3 (ipykernel)",
   "language": "python",
   "name": "python3"
  },
  "language_info": {
   "codemirror_mode": {
    "name": "ipython",
    "version": 3
   },
   "file_extension": ".py",
   "mimetype": "text/x-python",
   "name": "python",
   "nbconvert_exporter": "python",
   "pygments_lexer": "ipython3",
   "version": "3.8.12"
  }
 },
 "nbformat": 4,
 "nbformat_minor": 5
}
